{
 "cells": [
  {
   "cell_type": "markdown",
   "metadata": {
    "id": "J7pN900jLPvH"
   },
   "source": [
    "il y' a des codes utliser à partir des sites internet comme github "
   ]
  },
  {
   "cell_type": "code",
   "execution_count": 7,
   "metadata": {
    "id": "eA6W-hJNG-Ul"
   },
   "outputs": [],
   "source": [
    "import ftx \n",
    "import ta \n",
    "import time \n",
    "import json \n",
    "import pandas as pd\n",
    "from math import *"
   ]
  },
  {
   "cell_type": "code",
   "execution_count": 8,
   "metadata": {
    "colab": {
     "base_uri": "https://localhost:8080/"
    },
    "id": "WuRmOhmGTPvD",
    "outputId": "ee3ef11b-df58-4ecb-ed6d-28621d6d1a4a"
   },
   "outputs": [],
   "source": [
    "Strg='trix'#put trend or trix for statgy \n"
   ]
  },
  {
   "cell_type": "markdown",
   "metadata": {
    "id": "4waF_G1yHpPY"
   },
   "source": [
    "#Connecter au sous-compte de trading et importer en dircte les donnes "
   ]
  },
  {
   "cell_type": "code",
   "execution_count": 13,
   "metadata": {
    "colab": {
     "base_uri": "https://localhost:8080/"
    },
    "id": "iOUkYK4C-pLE",
    "outputId": "13a02b5d-793d-41b3-ebd9-773983cb827c"
   },
   "outputs": [],
   "source": [
    "accountName = 'advencedprograming'\n",
    "pairSymbol = 'XRP/USD'\n",
    "fiatSymbol = 'USD'\n",
    "cryptoSymbol = 'XRP'\n",
    "myTruncate = 4\n",
    "\n",
    "client = ftx.FtxClient(api_key='fShnnkX96Fs0bevsKNxm1Y4vjeXgf1q39PY342HB',\n",
    "                   api_secret='-AHMz3a4o3nGn-DUfLu0-0WoI1OIFRkMZDOVuL7l', subaccount_name=accountName)\n",
    "\n",
    "data = client.get_historical_data(\n",
    "    market_name=pairSymbol, \n",
    "    resolution=3600, \n",
    "    limit=650, \n",
    "    start_time=float(\n",
    "    round(time.time()))-650*3600, \n",
    "    end_time=float(round(time.time())))\n",
    "df = pd.DataFrame(data)  \n",
    "\n"
   ]
  },
  {
   "cell_type": "markdown",
   "metadata": {
    "id": "mnnwpT09LN5n"
   },
   "source": []
  },
  {
   "cell_type": "markdown",
   "metadata": {
    "id": "8bcXT64TJJXJ"
   },
   "source": [
    "## avoir les information sur le portefeuille "
   ]
  },
  {
   "cell_type": "code",
   "execution_count": 14,
   "metadata": {
    "colab": {
     "base_uri": "https://localhost:8080/"
    },
    "id": "ItVfc7uB-xaq",
    "outputId": "012adde6-fdbb-436c-b767-2098e5bb1bd6"
   },
   "outputs": [
    {
     "name": "stdout",
     "output_type": "stream",
     "text": [
      "1.091425 70.0 0.0\n"
     ]
    }
   ],
   "source": [
    "def getBalance(myclient, coin):\n",
    "    jsonBalance = myclient.get_balances()\n",
    "    pandaBalance = pd.DataFrame(jsonBalance)\n",
    "    if pandaBalance.loc[pandaBalance['coin'] == coin].empty : return 0\n",
    "    else : return float(pandaBalance.loc[pandaBalance['coin'] == coin]['free'])\n",
    "\n",
    "def truncate(n, decimals=0):\n",
    "    r = floor(float(n)*10**decimals)/10**decimals\n",
    "    return str(r)\n",
    "    \n",
    "\n",
    "actualPrice = df['close'].iloc[-1]\n",
    "fiatAmount = getBalance(client, fiatSymbol)\n",
    "cryptoAmount = getBalance(client, cryptoSymbol)\n",
    "print(actualPrice, fiatAmount, cryptoAmount)  \n"
   ]
  },
  {
   "cell_type": "markdown",
   "metadata": {
    "id": "T3E8wamRJWoA"
   },
   "source": [
    "## Automatiser les ordres d'achat et vente selon une stratégie données"
   ]
  },
  {
   "cell_type": "markdown",
   "metadata": {
    "id": "4N9dJZ-vStTk"
   },
   "source": [
    "##Trend stratgie "
   ]
  },
  {
   "cell_type": "code",
   "execution_count": 15,
   "metadata": {
    "id": "KIwh1U0C-9yj"
   },
   "outputs": [],
   "source": [
    "df['SMA200'] = ta.trend.sma_indicator(df['close'], 200)\n",
    "df['SMA600'] = ta.trend.sma_indicator(df['close'], 600)\n",
    "\n",
    "if Strg == 'trend' : \n",
    "   if float(fiatAmount) > 5 and df['SMA200'].iloc[-2] > df['SMA600'].iloc[-2]:## condition d'achat selon la stratigie \n",
    "      quantityBuy = truncate(float(fiatAmount)/actualPrice, myTruncate)\n",
    "      buyOrder = client.place_order(\n",
    "        market=pairSymbol, \n",
    "        side=\"buy\", \n",
    "        price=None, \n",
    "        size=quantityBuy, \n",
    "        type='market')\n",
    "      print(buyOrder) \n",
    "    \n",
    "\n",
    "   if float(cryptoAmount) > 0.0001 and df['SMA200'].iloc[-2] < df['SMA600'].iloc[-2]: ## pour changer la stratigier \n",
    "#faut just changer les condition \n",
    "      buyOrder = client.place_order(                    \n",
    "        market=pairSymbol, \n",
    "        side=\"sell\", \n",
    "        price=None, \n",
    "        size=truncate(cryptoAmount, myTruncate), \n",
    "        type='market')\n",
    "      print(buyOrder) \n",
    "   "
   ]
  },
  {
   "cell_type": "markdown",
   "metadata": {
    "id": "Ao_QAmmsS3H3"
   },
   "source": [
    "##TRIX stratgy "
   ]
  },
  {
   "cell_type": "code",
   "execution_count": 16,
   "metadata": {
    "id": "m8RUnV7oTKcB"
   },
   "outputs": [],
   "source": [
    "trix_length= 150  ##prametre optimiser à la main de cette stratigie  \n",
    "trix_signal=2520 ##prametre optimiser  à la main de cette stratigie \n",
    "\n",
    "df[\"TRIX\"]=ta.trend.ema_indicator(ta.trend.ema_indicator(ta.trend.ema_indicator(df['close'],window=trix_length),window=trix_length),window=trix_length)  \n",
    "df[\"TRIX_PCT\"]=df[\"TRIX\"].pct_change()*100  \n",
    "df[\"TRIX_singal\"]=ta.trend.sma_indicator(df[\"TRIX_PCT\"],trix_signal) \n",
    "df[\"TRIX_histo\"]=df[\"TRIX_PCT\"]-df[\"TRIX_singal\"]  \n",
    "df[\"stoch_rsi\"]=ta.momentum.stochrsi(df[\"close\"] , window=14 ,smooth1=3 ,smooth2=3 )  "
   ]
  },
  {
   "cell_type": "code",
   "execution_count": 17,
   "metadata": {
    "id": "axBAlJNxQ-KP"
   },
   "outputs": [],
   "source": [
    "\n",
    "\n",
    "if Strg == 'trix' :\n",
    "   if float(fiatAmount) > 5 and df['TRIX_histo'].iloc[-2] >0 and df['stoch_rsi'].iloc[-2]<0.8:## condition d'achat selon la stratigie \n",
    "      quantityBuy = truncate(float(fiatAmount)/actualPrice, myTruncate)\n",
    "      buyOrder = client.place_order(\n",
    "        market=pairSymbol, \n",
    "        side=\"buy\", \n",
    "        price=None, \n",
    "        size=quantityBuy, \n",
    "        type='market')\n",
    "      print(buyOrder)\n",
    "\n",
    "   if float(cryptoAmount) > 0.0001 and df['TRIX_histo'].iloc[-2] <0 and df['stoch_rsi'].iloc[-2]>0.2: ## pour changer la stratigier \n",
    "#faut just changer les condition \n",
    "      buyOrder = client.place_order(                    \n",
    "        market=pairSymbol, \n",
    "        side=\"sell\", \n",
    "        price=None, \n",
    "        size=truncate(cryptoAmount, myTruncate), \n",
    "        type='market')\n",
    "      print(buyOrder)"
   ]
  },
  {
   "cell_type": "code",
   "execution_count": 41,
   "metadata": {},
   "outputs": [],
   "source": [
    " with  open (\"tito.txt\" ,\"a+\") as f : \n",
    "        f.write(\"hello i work/\") "
   ]
  }
 ],
 "metadata": {
  "colab": {
   "collapsed_sections": [],
   "name": "Untitled2.ipynb",
   "provenance": []
  },
  "kernelspec": {
   "display_name": "Python 3",
   "language": "python",
   "name": "python3"
  },
  "language_info": {
   "codemirror_mode": {
    "name": "ipython",
    "version": 3
   },
   "file_extension": ".py",
   "mimetype": "text/x-python",
   "name": "python",
   "nbconvert_exporter": "python",
   "pygments_lexer": "ipython3",
   "version": "3.8.8"
  }
 },
 "nbformat": 4,
 "nbformat_minor": 1
}
